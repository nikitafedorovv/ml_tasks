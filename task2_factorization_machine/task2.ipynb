{
 "cells": [
  {
   "cell_type": "markdown",
   "source": [
    "# Task 2:\n",
    "\n",
    "Netflix Prize Dataset: https://www.kaggle.com/netflix-inc/netflix-prize-data/data#combined_data_1.txt\n",
    "\n",
    "Есть матрица рейтингов User-Item, по кросс-валидации бьем её на фолды, затем пытаемся предсказать скрытые рейтинги. Качество проверяем по RMSE, только для тех точек в которых прогноз есть.\n",
    "\n",
    "Используем факторизационную машину 2-го порядка с квадратичной функцией потерь (аналогично линейной регрессии).\n",
    "\n",
    "Статья про факторизационные машины: https://www.csie.ntu.edu.tw/~b97053/paper/Rendle2010FM.pdf\n",
    "\n"
   ],
   "metadata": {
    "collapsed": false,
    "pycharm": {
     "name": "#%% md\n"
    }
   }
  },
  {
   "cell_type": "code",
   "execution_count": 1,
   "outputs": [],
   "source": [
    "import time\n",
    "\n",
    "import numpy\n",
    "import pandas\n",
    "from sklearn.model_selection import KFold\n",
    "from sklearn.preprocessing import OneHotEncoder\n",
    "from sklearn.utils import shuffle\n",
    "\n"
   ],
   "metadata": {
    "collapsed": false,
    "pycharm": {
     "name": "#%%\n",
     "is_executing": false
    }
   }
  },
  {
   "cell_type": "markdown",
   "source": [
    "PARAMETERS"
   ],
   "metadata": {
    "collapsed": false,
    "pycharm": {
     "name": "#%% md\n"
    }
   }
  },
  {
   "cell_type": "code",
   "execution_count": 2,
   "outputs": [],
   "source": [
    "kfold_epochs = 8\n",
    "step = 0.001\n",
    "\n"
   ],
   "metadata": {
    "collapsed": false,
    "pycharm": {
     "name": "#%%\n",
     "is_executing": false
    }
   }
  },
  {
   "cell_type": "markdown",
   "source": [
    "METRICS"
   ],
   "metadata": {
    "collapsed": false
   }
  },
  {
   "cell_type": "code",
   "execution_count": 3,
   "outputs": [],
   "source": [
    "def get_RMSE(Y, Ypred):\n",
    "    return numpy.sqrt(numpy.sum((Ypred - Y) ** 2) / len(Y))\n",
    "\n",
    "\n",
    "def get_R2(Y, Ypred):\n",
    "    return 1 - numpy.sum((Ypred - Y) ** 2) / numpy.sum((Y - numpy.mean(Y)) ** 2)\n",
    "\n"
   ],
   "metadata": {
    "collapsed": false,
    "pycharm": {
     "name": "#%%\n",
     "is_executing": false
    }
   }
  },
  {
   "cell_type": "markdown",
   "source": [
    "PREDICTION FUNCTION"
   ],
   "metadata": {
    "collapsed": false
   }
  },
  {
   "cell_type": "code",
   "execution_count": 4,
   "outputs": [],
   "source": [
    "def prediction(W0, W, X, V):\n",
    "    Xsquare = X.power(2)\n",
    "    Vsquare = V ** 2\n",
    "    XV = X @ V\n",
    "    prediction = W0 + X @ W + (1 / 2) * numpy.sum(XV ** 2 - (Xsquare @ Vsquare), axis=1, keepdims=True)\n",
    "    return prediction\n",
    "\n"
   ],
   "metadata": {
    "collapsed": false,
    "pycharm": {
     "name": "#%%\n",
     "is_executing": false
    }
   }
  },
  {
   "cell_type": "markdown",
   "source": [
    "DATA"
   ],
   "metadata": {
    "collapsed": false
   }
  },
  {
   "cell_type": "code",
   "execution_count": 5,
   "outputs": [],
   "source": [
    "def get_data(path):\n",
    "    file = pandas.read_csv(path)\n",
    "    OHE = OneHotEncoder(sparse=True)\n",
    "    Y = file[['Rate']].values\n",
    "    X = file[['User', 'Movie']].values\n",
    "    X = OHE.fit_transform(X)\n",
    "    return X, Y\n",
    "\n",
    "\n",
    "def get_batches(X, Y, size, counter, shuffle_indices):\n",
    "    beg = counter * size\n",
    "    end = min(X.shape[0], (counter + 1) * size)\n",
    "    output_indices = shuffle_indices[beg:end]\n",
    "    return X[output_indices], Y[output_indices]\n",
    "\n"
   ],
   "metadata": {
    "collapsed": false,
    "pycharm": {
     "name": "#%%\n",
     "is_executing": false
    }
   }
  },
  {
   "cell_type": "markdown",
   "source": [
    "UPDATING"
   ],
   "metadata": {
    "collapsed": false
   }
  },
  {
   "cell_type": "code",
   "execution_count": 6,
   "outputs": [],
   "source": [
    "def update_W0(dY, c, W0):\n",
    "    return W0 - (c * numpy.sum(dY))\n",
    "\n",
    "\n",
    "def update_W(dY, c, X, W):\n",
    "    return W - c * (numpy.transpose(X) @ dY)\n",
    "\n",
    "\n",
    "def update_V(dY, c, V, X):\n",
    "    XV = X @ V\n",
    "    for factor in range(factors):\n",
    "        dV = X.multiply(XV[:, factor].reshape(-1, 1))\n",
    "        dV = dV - X.power(2).multiply(V[:, factor])\n",
    "        V[:, factor] = V[:, factor] - (dY.transpose() @ dV) * c\n",
    "    return V\n",
    "\n"
   ],
   "metadata": {
    "collapsed": false,
    "pycharm": {
     "name": "#%%\n",
     "is_executing": false
    }
   }
  },
  {
   "cell_type": "markdown",
   "source": [
    "LEARNING"
   ],
   "metadata": {
    "collapsed": false,
    "pycharm": {
     "name": "#%% md\n"
    }
   }
  },
  {
   "cell_type": "code",
   "execution_count": 7,
   "outputs": [],
   "source": [
    "def training(factors, epochs, size, X, Y):\n",
    "    Xfeats = X.shape[1]\n",
    "    Xsize = X.shape[0]\n",
    "    limits = 1.0 / numpy.sqrt(Xsize)\n",
    "    W0 = 0\n",
    "    W = numpy.random.uniform(-limits, limits, size=(Xfeats, 1))\n",
    "    V = numpy.random.uniform(-limits, limits, size=(Xfeats, factors))\n",
    "    shuffle_indices = shuffle(numpy.arange(X.shape[0]))\n",
    "\n",
    "    for epoch in range(epochs):\n",
    "        for counter in range(0, Xsize // size):\n",
    "            Xbatch, Ybatch = get_batches(X, Y, size, counter, shuffle_indices)\n",
    "            pred = prediction(W0, W, Xbatch, V)\n",
    "            dY = 2 * (pred - Ybatch) / len(pred)\n",
    "            W0 = update_W0(dY, step, W0)\n",
    "            W = update_W(dY, step, Xbatch, W)\n",
    "            V = update_V(dY, step, V, Xbatch)\n",
    "    return W0, W, V\n",
    "\n"
   ],
   "metadata": {
    "collapsed": false,
    "pycharm": {
     "name": "#%%\n",
     "is_executing": false
    }
   }
  },
  {
   "cell_type": "markdown",
   "source": [
    "FACTORIZATION MACHINE & RESULTS"
   ],
   "metadata": {
    "collapsed": false
   }
  },
  {
   "cell_type": "code",
   "execution_count": 8,
   "outputs": [
    {
     "name": "stderr",
     "text": [
      "/usr/local/lib/python3.7/site-packages/sklearn/preprocessing/_encoders.py:368: FutureWarning: The handling of integer data will change in version 0.22. Currently, the categories are determined based on the range [0, max(values)], while in the future they will be determined based on the unique values.\nIf you want the future behaviour and silence this warning, you can specify \"categories='auto'\".\nIn case you used a LabelEncoder before this OneHotEncoder to convert the categories to integers, then you can now use the OneHotEncoder directly.\n  warnings.warn(msg, FutureWarning)\n"
     ],
     "output_type": "stream"
    },
    {
     "name": "stdout",
     "text": [
      "fold 1 finished. time: 4503\n",
      "fold 2 finished. time: 3925\n",
      "fold 3 finished. time: 3893\n",
      "fold 4 finished. time: 3864\n",
      "fold 5 finished. time: 3891\n",
      "fold 6 finished. time: 3745\n",
      "fold 7 finished. time: 3878\n",
      "fold 8 finished. time: 3946\n"
     ],
     "output_type": "stream"
    },
    {
     "data": {
      "text/plain": "             Epoch 1   Epoch 2   Epoch 3   Epoch 4   Epoch 5   Epoch 6  \\\nRMSE Train  1.042129  1.044798  1.051102  1.052983  1.052026  1.049424   \nRMSE Test   1.103722  1.081952  1.032815  1.015873  1.020655  1.038828   \nR2 Train    0.065798  0.065415  0.066625  0.068278  0.069559  0.070651   \nR2 Test     0.012116  0.057369  0.073613  0.062757  0.058867  0.051503   \n\n             Epoch 7   Epoch 8  \nRMSE Train  1.045907  1.046572  \nRMSE Test   1.064706  1.062175  \nR2 Train    0.070939  0.070918  \nR2 Test     0.044792  0.039988  ",
      "text/html": "<div>\n<style scoped>\n    .dataframe tbody tr th:only-of-type {\n        vertical-align: middle;\n    }\n\n    .dataframe tbody tr th {\n        vertical-align: top;\n    }\n\n    .dataframe thead th {\n        text-align: right;\n    }\n</style>\n<table border=\"1\" class=\"dataframe\">\n  <thead>\n    <tr style=\"text-align: right;\">\n      <th></th>\n      <th>Epoch 1</th>\n      <th>Epoch 2</th>\n      <th>Epoch 3</th>\n      <th>Epoch 4</th>\n      <th>Epoch 5</th>\n      <th>Epoch 6</th>\n      <th>Epoch 7</th>\n      <th>Epoch 8</th>\n    </tr>\n  </thead>\n  <tbody>\n    <tr>\n      <th>RMSE Train</th>\n      <td>1.042129</td>\n      <td>1.044798</td>\n      <td>1.051102</td>\n      <td>1.052983</td>\n      <td>1.052026</td>\n      <td>1.049424</td>\n      <td>1.045907</td>\n      <td>1.046572</td>\n    </tr>\n    <tr>\n      <th>RMSE Test</th>\n      <td>1.103722</td>\n      <td>1.081952</td>\n      <td>1.032815</td>\n      <td>1.015873</td>\n      <td>1.020655</td>\n      <td>1.038828</td>\n      <td>1.064706</td>\n      <td>1.062175</td>\n    </tr>\n    <tr>\n      <th>R2 Train</th>\n      <td>0.065798</td>\n      <td>0.065415</td>\n      <td>0.066625</td>\n      <td>0.068278</td>\n      <td>0.069559</td>\n      <td>0.070651</td>\n      <td>0.070939</td>\n      <td>0.070918</td>\n    </tr>\n    <tr>\n      <th>R2 Test</th>\n      <td>0.012116</td>\n      <td>0.057369</td>\n      <td>0.073613</td>\n      <td>0.062757</td>\n      <td>0.058867</td>\n      <td>0.051503</td>\n      <td>0.044792</td>\n      <td>0.039988</td>\n    </tr>\n  </tbody>\n</table>\n</div>"
     },
     "metadata": {},
     "output_type": "execute_result",
     "execution_count": 8
    }
   ],
   "source": [
    "path = '/Users/nikitavolkov/Desktop/ml/ml_tasks/task2_factorization_machine/netflix-prize-data/NetflixData.csv'\n",
    "epochs = kfold_epochs\n",
    "factors = 2\n",
    "batch_size = 1024\n",
    "X, Y = get_data(path)\n",
    "\n",
    "folds = KFold(n_splits=epochs, random_state=None, shuffle=False)\n",
    "\n",
    "RMSE_train = []\n",
    "RMSE_test = []\n",
    "R2_train = []\n",
    "R2_test = []\n",
    "iterator = 0\n",
    "\n",
    "for indices_train, indices_test in folds.split(X):\n",
    "    iterator = iterator + 1\n",
    "    fold_start = time.time()\n",
    "\n",
    "    Xtrain = X[indices_train]\n",
    "    Xtest = X[indices_test]\n",
    "    Ytrain = Y[indices_train]\n",
    "    Ytest = Y[indices_test]\n",
    "\n",
    "    W0, W, V = training(factors, epochs, batch_size, Xtrain, Ytrain)\n",
    "\n",
    "    prediction_train = prediction(W0, W, Xtrain, V)\n",
    "    RMSE_train.append(get_RMSE(Ytrain, prediction_train))\n",
    "    R2_train.append(get_R2(Ytrain, prediction_train))\n",
    "\n",
    "    prediction_test = prediction(W0, W, Xtest, V)\n",
    "    RMSE_test.append(get_RMSE(Ytest, prediction_test))\n",
    "    R2_test.append(get_R2(Ytest, prediction_test))\n",
    "    print('fold %d finished. time: %d' % (iterator, (time.time() - fold_start)))\n",
    "\n",
    "res = pandas.DataFrame(numpy.vstack([RMSE_train, RMSE_test, R2_train, R2_test]))\n",
    "res.columns = ['Epoch %d' % (i + 1) for i in range(0, epochs)]\n",
    "res.rename(index={0: 'RMSE Train', 1: 'RMSE Test', 2: 'R2 Train', 3: 'R2 Test'}, inplace=True)\n",
    "res\n"
   ],
   "metadata": {
    "collapsed": false,
    "pycharm": {
     "name": "#%%\n",
     "is_executing": false
    }
   }
  },
  {
   "cell_type": "code",
   "execution_count": null,
   "outputs": [],
   "source": [
    "\n"
   ],
   "metadata": {
    "collapsed": false,
    "pycharm": {
     "name": "#%%\n"
    }
   }
  }
 ],
 "metadata": {
  "kernelspec": {
   "name": "python3",
   "language": "python",
   "display_name": "Python 3"
  },
  "language_info": {
   "codemirror_mode": {
    "name": "ipython",
    "version": 2
   },
   "file_extension": ".py",
   "mimetype": "text/x-python",
   "name": "python",
   "nbconvert_exporter": "python",
   "pygments_lexer": "ipython2",
   "version": "2.7.6"
  },
  "stem_cell": {
   "cell_type": "raw",
   "source": "",
   "metadata": {
    "pycharm": {
     "metadata": false
    }
   }
  },
  "pycharm": {
   "stem_cell": {
    "cell_type": "raw",
    "source": [],
    "metadata": {
     "collapsed": false
    }
   }
  }
 },
 "nbformat": 4,
 "nbformat_minor": 0
}